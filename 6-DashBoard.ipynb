{
  "cells": [
    {
      "cell_type": "markdown",
      "metadata": {
        "id": "view-in-github",
        "colab_type": "text"
      },
      "source": [
        "<a href=\"https://colab.research.google.com/github/VAMSISAKEPURAM/IBM-Capstone-Project_SpaceX/blob/main/6.1dashboard.ipynb\" target=\"_parent\"><img src=\"https://colab.research.google.com/assets/colab-badge.svg\" alt=\"Open In Colab\"/></a>"
      ]
    },
    {
      "cell_type": "markdown",
      "id": "fc5a8072",
      "metadata": {
        "id": "fc5a8072"
      },
      "source": [
        "*  Which site has the largest successful launches?\n",
        "* Which site has the highest launch success rate?\n",
        "*  Which payload range(s) has the highest launch success rate?\n",
        "*  Which payload range(s) has the lowest launch success rate?\n",
        "*  Which F9 Booster version (v1.0, v1.1, FT, B4, B5, etc.) has the highest launch success rate?"
      ]
    },
    {
      "cell_type": "code",
      "execution_count": 4,
      "id": "55353a61",
      "metadata": {
        "colab": {
          "base_uri": "https://localhost:8080/",
          "height": 672
        },
        "id": "55353a61",
        "outputId": "0bacffeb-d975-4242-cf5c-9f53b067eb8b"
      },
      "outputs": [
        {
          "output_type": "display_data",
          "data": {
            "text/plain": [
              "<IPython.core.display.Javascript object>"
            ],
            "application/javascript": [
              "(async (port, path, width, height, cache, element) => {\n",
              "    if (!google.colab.kernel.accessAllowed && !cache) {\n",
              "      return;\n",
              "    }\n",
              "    element.appendChild(document.createTextNode(''));\n",
              "    const url = await google.colab.kernel.proxyPort(port, {cache});\n",
              "    const iframe = document.createElement('iframe');\n",
              "    iframe.src = new URL(path, url).toString();\n",
              "    iframe.height = height;\n",
              "    iframe.width = width;\n",
              "    iframe.style.border = 0;\n",
              "    iframe.allow = [\n",
              "        'accelerometer',\n",
              "        'autoplay',\n",
              "        'camera',\n",
              "        'clipboard-read',\n",
              "        'clipboard-write',\n",
              "        'gyroscope',\n",
              "        'magnetometer',\n",
              "        'microphone',\n",
              "        'serial',\n",
              "        'usb',\n",
              "        'xr-spatial-tracking',\n",
              "    ].join('; ');\n",
              "    element.appendChild(iframe);\n",
              "  })(8050, \"/\", \"100%\", 650, false, window.element)"
            ]
          },
          "metadata": {}
        }
      ],
      "source": [
        "# Import required libraries\n",
        "import pandas as pd\n",
        "import dash\n",
        "from dash import html, dcc\n",
        "from dash.dependencies import Input, Output\n",
        "import plotly.express as px\n",
        "\n",
        "# Read the SpaceX launch data into pandas dataframe\n",
        "spacex_df = pd.read_csv(\"/content/spacex_launch_dash.xls\")\n",
        "max_payload = spacex_df['Payload Mass (kg)'].max()\n",
        "min_payload = spacex_df['Payload Mass (kg)'].min()\n",
        "\n",
        "# Create a dash application\n",
        "app = dash.Dash(__name__)\n",
        "\n",
        "# Create an app layout\n",
        "app.layout = html.Div(children=[\n",
        "    html.H1('SpaceX Launch Records Dashboard',\n",
        "            style={'textAlign': 'center', 'color': \"#CE16A0\", 'font-size': 40}),\n",
        "\n",
        "    # TASK 1: Launch Site Dropdown\n",
        "    dcc.Dropdown(id='site-dropdown',\n",
        "                 options=[{'label': 'All Sites', 'value': 'ALL'}] +\n",
        "                         [{'label': site, 'value': site} for site in spacex_df['Launch Site'].unique()],\n",
        "                 value='ALL',\n",
        "                 placeholder='Select a Launch Site here',\n",
        "                 searchable=True),\n",
        "    html.Br(),\n",
        "\n",
        "    # TASK 2: Pie Chart\n",
        "    html.Div(dcc.Graph(id='success-pie-chart')),\n",
        "    html.Br(),\n",
        "\n",
        "    html.P(\"Payload range (Kg):\"),\n",
        "\n",
        "    # TASK 3: Payload Range Slider\n",
        "    dcc.RangeSlider(id='payload-slider',\n",
        "                    min=0, max=10000, step=1000,\n",
        "                    marks={i: str(i) for i in range(0, 10001, 1000)},\n",
        "                    value=[min_payload, max_payload]),\n",
        "\n",
        "    # TASK 4: Scatter Chart\n",
        "    html.Div(dcc.Graph(id='success-payload-scatter-chart')),\n",
        "])\n",
        "\n",
        "# TASK 2: Callback for Pie Chart\n",
        "@app.callback(Output('success-pie-chart', 'figure'),\n",
        "              Input('site-dropdown', 'value'))\n",
        "def update_pie_chart(selected_site):\n",
        "    if selected_site == 'ALL':\n",
        "        fig = px.pie(spacex_df, names='Launch Site', values='class',\n",
        "                     title='Total Successful Launches by Site')\n",
        "    else:\n",
        "        filtered_df = spacex_df[spacex_df['Launch Site'] == selected_site]\n",
        "        fig = px.pie(filtered_df, names='class',\n",
        "                     title=f'Success vs. Failure for site {selected_site}')\n",
        "    return fig\n",
        "\n",
        "# TASK 4: Callback for Scatter Chart\n",
        "@app.callback(Output('success-payload-scatter-chart', 'figure'),\n",
        "              [Input('site-dropdown', 'value'),\n",
        "               Input('payload-slider', 'value')])\n",
        "def update_scatter_chart(selected_site, payload_range):\n",
        "    low, high = payload_range\n",
        "    filtered_df = spacex_df[(spacex_df['Payload Mass (kg)'] >= low) &\n",
        "                            (spacex_df['Payload Mass (kg)'] <= high)]\n",
        "\n",
        "    if selected_site == 'ALL':\n",
        "        fig = px.scatter(filtered_df, x='Payload Mass (kg)', y='class',\n",
        "                         color='Booster Version Category',\n",
        "                         title='Correlation between Payload and Success for All Sites')\n",
        "    else:\n",
        "        site_df = filtered_df[filtered_df['Launch Site'] == selected_site]\n",
        "        fig = px.scatter(site_df, x='Payload Mass (kg)', y='class',\n",
        "                         color='Booster Version Category',\n",
        "                         title=f'Payload vs. Success for site {selected_site}')\n",
        "    return fig\n",
        "\n",
        "# Run the app\n",
        "if __name__ == '__main__':\n",
        "    app.run(debug=True)\n"
      ]
    }
  ],
  "metadata": {
    "kernelspec": {
      "display_name": "base",
      "language": "python",
      "name": "python3"
    },
    "language_info": {
      "codemirror_mode": {
        "name": "ipython",
        "version": 3
      },
      "file_extension": ".py",
      "mimetype": "text/x-python",
      "name": "python",
      "nbconvert_exporter": "python",
      "pygments_lexer": "ipython3",
      "version": "3.13.5"
    },
    "colab": {
      "provenance": [],
      "include_colab_link": true
    }
  },
  "nbformat": 4,
  "nbformat_minor": 5
}
